{
 "cells": [
  {
   "cell_type": "code",
   "execution_count": 41,
   "metadata": {},
   "outputs": [],
   "source": [
    "import numpy as np\n",
    "\n",
    "class new_word_in_voc:\n",
    "    \n",
    "    def __init__(self,w1,w2,num_add):\n",
    "        self.params = {}\n",
    "        self.params['W1'] = w1\n",
    "        self.params['W2'] = w2\n",
    "        self.num = num_add # 단어장에 추가된 단어의 수\n",
    "        \n",
    "    def make_new_params(self):\n",
    "        sizeof_axis1 = np.size(w1,axis = 1) # w1이 n*m이라고 할때  m 값\n",
    "        # w1이 n*m 사이즈 일 경우 m 값만 알면됨 >> w1의 맨 아래에 1*m 추가 \n",
    "        # w2의 맨 오른쪽에 m*1 추가\n",
    "        \n",
    "        adding_new_param0 = 0.01 * np.random.rand(1, sizeof_axis1)\n",
    "        adding_new_param1 = 0.01 * np.random.rand(sizeof_axis1, 1)\n",
    "        \n",
    "        self.params['W1'] = np.append(self.params['W1'],adding_new_param0,axis=0)\n",
    "        self.params['W2'] = np.append(self.params['W2'],adding_new_param1,axis=1)\n",
    "        "
   ]
  },
  {
   "cell_type": "code",
   "execution_count": 34,
   "metadata": {},
   "outputs": [
    {
     "name": "stdout",
     "output_type": "stream",
     "text": [
      "2\n",
      "3\n"
     ]
    },
    {
     "data": {
      "text/plain": [
       "array([[1, 2, 3, 4],\n",
       "       [5, 6, 7, 5]])"
      ]
     },
     "execution_count": 34,
     "metadata": {},
     "output_type": "execute_result"
    }
   ],
   "source": [
    "A = np.array([[1,2,3],[5,6,7]])\n",
    "B = np.array([[4],[5]])\n",
    "print(np.size(A,axis = 0))\n",
    "print(np.size(A,axis = 1))\n",
    "\n",
    "np.append(A,B,axis= 1)"
   ]
  }
 ],
 "metadata": {
  "kernelspec": {
   "display_name": "Python 3",
   "language": "python",
   "name": "python3"
  },
  "language_info": {
   "codemirror_mode": {
    "name": "ipython",
    "version": 3
   },
   "file_extension": ".py",
   "mimetype": "text/x-python",
   "name": "python",
   "nbconvert_exporter": "python",
   "pygments_lexer": "ipython3",
   "version": "3.7.6"
  }
 },
 "nbformat": 4,
 "nbformat_minor": 4
}
