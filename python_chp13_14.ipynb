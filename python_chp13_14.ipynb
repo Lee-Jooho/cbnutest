{
 "cells": [
  {
   "cell_type": "code",
   "execution_count": null,
   "metadata": {},
   "outputs": [],
   "source": [
    "class Circle:\n",
    "    def __init__(self,radius):\n",
    "        self.radius = radius\n",
    "        self.Perimeter = 1\n",
    "        self.Area = 1\n",
    "    def calcPerimeter(self):\n",
    "        self.Perimeter = 2*3.14*self.radius\n",
    "    def calcArea(self):\n",
    "        self.Area = 3.14* self.radius * self.radius\n",
    "    def __str__(self):\n",
    "        msg = \"원의 반지름 : \" + str(self.radius) + \"\\n원의 둘레 : \" + str(self.Perimeter) + \"\\n원의 면적 : \" + str(self.Area)\n",
    "        return msg"
   ]
  },
  {
   "cell_type": "code",
   "execution_count": null,
   "metadata": {},
   "outputs": [],
   "source": [
    "radius = int(input(\"반지름 :\"))\n",
    "print(\"\\n\")\n",
    "myCircle = Circle(radius)\n",
    "myCircle.calcPerimeter()\n",
    "myCircle.calcArea()\n",
    "print(myCircle)\n"
   ]
  },
  {
   "cell_type": "code",
   "execution_count": null,
   "metadata": {},
   "outputs": [],
   "source": [
    "import turtle"
   ]
  },
  {
   "cell_type": "code",
   "execution_count": null,
   "metadata": {},
   "outputs": [],
   "source": [
    "class MyTurtle(turtle.Turtle):\n",
    "    def drawSquare(self):\n",
    "        for i in range(4):\n",
    "            self.right(90)\n",
    "            self.forward(100)"
   ]
  },
  {
   "cell_type": "code",
   "execution_count": null,
   "metadata": {},
   "outputs": [],
   "source": [
    "my_turtle = MyTurtle()\n",
    "my_turtle.forward(100)\n",
    "my_turtle.drawSquare()"
   ]
  }
 ],
 "metadata": {
  "kernelspec": {
   "display_name": "Python 3",
   "language": "python",
   "name": "python3"
  },
  "language_info": {
   "codemirror_mode": {
    "name": "ipython",
    "version": 3
   },
   "file_extension": ".py",
   "mimetype": "text/x-python",
   "name": "python",
   "nbconvert_exporter": "python",
   "pygments_lexer": "ipython3",
   "version": "3.7.6"
  }
 },
 "nbformat": 4,
 "nbformat_minor": 4
}
