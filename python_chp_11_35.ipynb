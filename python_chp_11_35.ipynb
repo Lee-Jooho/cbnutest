{
 "cells": [
  {
   "cell_type": "code",
   "execution_count": null,
   "metadata": {},
   "outputs": [],
   "source": [
    "infile = open(\"HumptyDumpty.csv\",\"w\")\n",
    "infile.write('''Humpty Dumpty sat on a wall,\n",
    "Humpty Dumpty had a great fall.\n",
    "All the king's horses and all the king's men\n",
    "Couldn't put Humpty together again.''')\n",
    "infile.close()\n",
    "infile = open(\"HumptyDumpty.csv\",\"r\")\n",
    "lines = infile.read()\n",
    "print(lines)\n",
    "infile.close()"
   ]
  },
  {
   "cell_type": "code",
   "execution_count": null,
   "metadata": {},
   "outputs": [],
   "source": [
    "infile = open(\"HumptyDumpty.csv\",\"r\")\n",
    "lines = infile.read().strip()\n",
    "x = {}\n",
    "for word in lines:\n",
    "    if word.isalpha():\n",
    "        if word not in x:\n",
    "            x[word] = 1\n",
    "        else:\n",
    "            x[word] +=1\n",
    "infile.close()\n",
    "print(x)"
   ]
  },
  {
   "cell_type": "code",
   "execution_count": null,
   "metadata": {},
   "outputs": [],
   "source": [
    "number = open(\"numbers.txt\",\"w\")\n",
    "number.write(\"\"\"80.6\n",
    "71.4\n",
    "65\n",
    "74.6\n",
    "72.2\n",
    "75.4\n",
    "81\n",
    "85.2\n",
    "56.2\n",
    "55.4\n",
    "22.2\n",
    "81\n",
    "73.4\n",
    "77.8\n",
    "53.4\n",
    "91.4\n",
    "73.7\n",
    "73.4\n",
    "60.2\n",
    "82.2\n",
    "73.4\n",
    "77\n",
    "65.4\n",
    "61\n",
    "67.8\n",
    "68.2\n",
    "69\n",
    "83.4\n",
    "38.2\n",
    "52.6\n",
    "54.2\n",
    "51\n",
    "57\n",
    "86.2\n",
    "63.8\n",
    "65.8\n",
    "80.6\n",
    "53\n",
    "57.2\n",
    "69\n",
    "73\n",
    "75\n",
    "86.4\n",
    "72.5\n",
    "22.8\n",
    "80.2\n",
    "74.2\n",
    "65.4\n",
    "43.6\n",
    "76.6\n",
    "38.4\n",
    "73.4\n",
    "16.6\"\"\")\n",
    "number.close()"
   ]
  },
  {
   "cell_type": "code",
   "execution_count": null,
   "metadata": {},
   "outputs": [],
   "source": [
    "numbers = open(\"numbers.txt\",\"r\")\n",
    "number = numbers.readlines()\n",
    "sum = 0\n",
    "total = 0\n",
    "for x in number:\n",
    "    y = float(x)\n",
    "    sum += y\n",
    "    total +=1\n",
    "sum_1 = round(sum,2)\n",
    "avg = sum/total\n",
    "print(sum_1,' ',avg)"
   ]
  },
  {
   "cell_type": "code",
   "execution_count": null,
   "metadata": {},
   "outputs": [],
   "source": [
    "output = open(\"output.txt\",\"w\")\n",
    "sum_1 = str(sum_1)\n",
    "avg = str(avg)\n",
    "output.write(sum_1)\n",
    "output.write(\"\\n\")\n",
    "output.write(avg)\n",
    "output.close()"
   ]
  }
 ],
 "metadata": {
  "kernelspec": {
   "display_name": "Python 3",
   "language": "python",
   "name": "python3"
  },
  "language_info": {
   "codemirror_mode": {
    "name": "ipython",
    "version": 3
   },
   "file_extension": ".py",
   "mimetype": "text/x-python",
   "name": "python",
   "nbconvert_exporter": "python",
   "pygments_lexer": "ipython3",
   "version": "3.7.6"
  }
 },
 "nbformat": 4,
 "nbformat_minor": 4
}
